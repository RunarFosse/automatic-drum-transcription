{
 "cells": [
  {
   "cell_type": "code",
   "execution_count": 2,
   "metadata": {},
   "outputs": [
    {
     "name": "stderr",
     "output_type": "stream",
     "text": [
      "/Users/runarfosse/Library/Python/3.11/lib/python/site-packages/IPython/core/magics/osm.py:417: UserWarning: This is now an optional IPython functionality, setting dhist requires you to install the `pickleshare` library.\n",
      "  self.shell.db['dhist'] = compress_dhist(dhist)[-100:]\n"
     ]
    },
    {
     "name": "stdout",
     "output_type": "stream",
     "text": [
      "/Users/runarfosse/Desktop/OneDrive - University of Bergen/Master Thesis\n"
     ]
    }
   ],
   "source": [
    "%cd ..\n",
    "\n",
    "from IPython.display import display_markdown\n",
    "\n",
    "import os\n",
    "from pathlib import Path\n",
    "\n",
    "from models import RNN, CNN, ADTOF_FrameRNN, ADTOF_FrameAttention, VisionTransformer"
   ]
  },
  {
   "cell_type": "markdown",
   "metadata": {},
   "source": [
    "## Analyse the different models' performance on different datasets"
   ]
  },
  {
   "cell_type": "code",
   "execution_count": 3,
   "metadata": {},
   "outputs": [],
   "source": [
    "# Declare every model and dataset\n",
    "models = [RNN, CNN, ADTOF_FrameRNN, ADTOF_FrameAttention, VisionTransformer]\n",
    "datasets = [\"ADTOF-YT\", \"E-GMD\", \"Slakh\"]\n",
    "\n",
    "study = Path(os.getcwd()).resolve() / \"study\" / \"Architecture\""
   ]
  },
  {
   "cell_type": "code",
   "execution_count": 4,
   "metadata": {},
   "outputs": [
    {
     "data": {
      "text/markdown": [
       "| Model | ADTOF-YT|E-GMD|Slakh |\n",
       "|:--|--:|--:|--:|\n",
       "|RNN|0.9498|0.8892||\n",
       "|CNN|0.8290|0.8657||\n",
       "|Convolutional RNN|0.9455|0.8911||\n",
       "|Convolutional Transformer|0.9533|0.8852||\n",
       "|Vision Transformer|0.9560|0.8818||\n"
      ]
     },
     "metadata": {},
     "output_type": "display_data"
    }
   ],
   "source": [
    "# Find and print their respective performances\n",
    "markdown = f\"| Model | {'|'.join(datasets)} |\\n\"\n",
    "markdown += f\"|:--|{'--:|'.join('' for _ in datasets)}--:|\\n\"\n",
    "\n",
    "for model in models:\n",
    "    markdown += f\"|{model.name}|\"\n",
    "    for dataset in datasets:\n",
    "        if not (study / model.name / dataset).exists():\n",
    "            markdown += \"|\"\n",
    "        else:\n",
    "            results = study / model.name / dataset / \"results.txt\"\n",
    "            with open(results) as f:\n",
    "                performance = f.readlines()[6].split(\" \")[-1].strip()\n",
    "                markdown += f\"{performance}|\"\n",
    "    markdown += \"\\n\"\n",
    "\n",
    "display_markdown(markdown, raw=True)"
   ]
  }
 ],
 "metadata": {
  "kernelspec": {
   "display_name": "Python 3",
   "language": "python",
   "name": "python3"
  },
  "language_info": {
   "codemirror_mode": {
    "name": "ipython",
    "version": 3
   },
   "file_extension": ".py",
   "mimetype": "text/x-python",
   "name": "python",
   "nbconvert_exporter": "python",
   "pygments_lexer": "ipython3",
   "version": "3.11.8"
  }
 },
 "nbformat": 4,
 "nbformat_minor": 2
}
